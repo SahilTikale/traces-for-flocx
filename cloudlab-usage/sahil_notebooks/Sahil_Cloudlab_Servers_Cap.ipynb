{
 "cells": [
  {
   "cell_type": "code",
   "execution_count": 1,
   "id": "rising-kennedy",
   "metadata": {},
   "outputs": [],
   "source": [
    "import os, sys\n",
    "import pandas as pd\n",
    "import numpy as np\n",
    "import matplotlib.pyplot as plt\n",
    "import seaborn as sns\n",
    "import matplotlib.ticker as mticker\n",
    "import re\n",
    "import hashlib\n",
    "import time\n",
    "import datetime as dt\n",
    "from pandas.tseries.offsets import BDay\n",
    "from matplotlib.lines import Line2D\n",
    "import multiprocessing as mp\n",
    "import calendar\n",
    "from dateutil.relativedelta import relativedelta\n",
    "# Makes the quality of display plot better: retina quality\n",
    "%config InlineBackend.figure_format = 'retina'\n",
    "\n",
    "# Allows setting values in dataframe copies without warnings (default='warn')\n",
    "pd.options.mode.chained_assignment = None\n",
    "\n",
    "source_dir = \"data/\"\n",
    "\n",
    "#if not os.path.isdir(source_dir):\n",
    "#    os.mkdir(dest_dir)\n",
    "    \n",
    "#db = {}\n",
    "#for f in os.listdir(source_dir):\n",
    "#    if \".csv\" in f:\n",
    "#        db[os.path.splitext(f)[0]] = pd.read_csv(source_dir + f, low_memory=False)    \n",
    "\n",
    "# Print the tables in each csv        \n",
    "#        for k, df in db.items():\n",
    "#            print (\"Table/dataframe: %s (Length: %d)\" %(k, len(df)))\n",
    "#            #print ((\"\\t\"  +  \"\\n\\t\").join(sorted(df.columns.tolist())), \"\\n\")\n",
    "#            print ((\"\\t\"),(\"\\n\" \"\\t \").join(sorted(df.columns.tolist())), \"\\n\")\n",
    "    \n",
    "%run graphics.ipynb\n",
    "nodes_df=pd.read_csv(source_dir + \"nodes.csv\")"
   ]
  },
  {
   "cell_type": "code",
   "execution_count": 2,
   "id": "grand-aluminum",
   "metadata": {},
   "outputs": [
    {
     "data": {
      "text/html": [
       "<div>\n",
       "<style scoped>\n",
       "    .dataframe tbody tr th:only-of-type {\n",
       "        vertical-align: middle;\n",
       "    }\n",
       "\n",
       "    .dataframe tbody tr th {\n",
       "        vertical-align: top;\n",
       "    }\n",
       "\n",
       "    .dataframe thead th {\n",
       "        text-align: right;\n",
       "    }\n",
       "</style>\n",
       "<table border=\"1\" class=\"dataframe\">\n",
       "  <thead>\n",
       "    <tr style=\"text-align: right;\">\n",
       "      <th></th>\n",
       "      <th>inception</th>\n",
       "    </tr>\n",
       "    <tr>\n",
       "      <th>type</th>\n",
       "      <th></th>\n",
       "    </tr>\n",
       "  </thead>\n",
       "  <tbody>\n",
       "    <tr>\n",
       "      <th>APC</th>\n",
       "      <td>NaN</td>\n",
       "    </tr>\n",
       "    <tr>\n",
       "      <th>C240M4</th>\n",
       "      <td>2015-03-02 23:24:49</td>\n",
       "    </tr>\n",
       "    <tr>\n",
       "      <th>RPC27</th>\n",
       "      <td>None</td>\n",
       "    </tr>\n",
       "    <tr>\n",
       "      <th>Raritan</th>\n",
       "      <td>None</td>\n",
       "    </tr>\n",
       "    <tr>\n",
       "      <th>apcon</th>\n",
       "      <td>None</td>\n",
       "    </tr>\n",
       "    <tr>\n",
       "      <th>arista7500</th>\n",
       "      <td>None</td>\n",
       "    </tr>\n",
       "    <tr>\n",
       "      <th>bbg</th>\n",
       "      <td>2013-03-11 21:45:19</td>\n",
       "    </tr>\n",
       "    <tr>\n",
       "      <th>bbgeni</th>\n",
       "      <td>NaN</td>\n",
       "    </tr>\n",
       "    <tr>\n",
       "      <th>blockstore</th>\n",
       "      <td>2016-03-01 16:14:34</td>\n",
       "    </tr>\n",
       "    <tr>\n",
       "      <th>c220g1</th>\n",
       "      <td>2016-04-15 13:20:23</td>\n",
       "    </tr>\n",
       "  </tbody>\n",
       "</table>\n",
       "</div>"
      ],
      "text/plain": [
       "                      inception\n",
       "type                           \n",
       "APC                         NaN\n",
       "C240M4      2015-03-02 23:24:49\n",
       "RPC27                      None\n",
       "Raritan                    None\n",
       "apcon                      None\n",
       "arista7500                 None\n",
       "bbg         2013-03-11 21:45:19\n",
       "bbgeni                      NaN\n",
       "blockstore  2016-03-01 16:14:34\n",
       "c220g1      2016-04-15 13:20:23"
      ]
     },
     "execution_count": 2,
     "metadata": {},
     "output_type": "execute_result"
    }
   ],
   "source": [
    "node_inception = nodes_df[['type', 'inception']] \n",
    "# aggregate by the first date found per hardware\n",
    "node_inception = node_inception.groupby('type').agg(min)\n",
    "# Remove rows with Null values in inception time. It does not affect the node_count.\n",
    "\n",
    "\n",
    "node_inception.head(10)\n"
   ]
  },
  {
   "cell_type": "code",
   "execution_count": 3,
   "id": "disturbed-russian",
   "metadata": {},
   "outputs": [
    {
     "data": {
      "text/plain": [
       "(106, 1)"
      ]
     },
     "execution_count": 3,
     "metadata": {},
     "output_type": "execute_result"
    }
   ],
   "source": [
    "node_inception.shape"
   ]
  },
  {
   "cell_type": "markdown",
   "id": "familiar-reading",
   "metadata": {},
   "source": [
    "## Table with each node type and its starting time. "
   ]
  },
  {
   "cell_type": "code",
   "execution_count": 4,
   "id": "dynamic-breed",
   "metadata": {},
   "outputs": [
    {
     "data": {
      "text/html": [
       "<div>\n",
       "<style scoped>\n",
       "    .dataframe tbody tr th:only-of-type {\n",
       "        vertical-align: middle;\n",
       "    }\n",
       "\n",
       "    .dataframe tbody tr th {\n",
       "        vertical-align: top;\n",
       "    }\n",
       "\n",
       "    .dataframe thead th {\n",
       "        text-align: right;\n",
       "    }\n",
       "</style>\n",
       "<table border=\"1\" class=\"dataframe\">\n",
       "  <thead>\n",
       "    <tr style=\"text-align: right;\">\n",
       "      <th></th>\n",
       "      <th>inception</th>\n",
       "    </tr>\n",
       "    <tr>\n",
       "      <th>type</th>\n",
       "      <th></th>\n",
       "    </tr>\n",
       "  </thead>\n",
       "  <tbody>\n",
       "    <tr>\n",
       "      <th>C240M4</th>\n",
       "      <td>2015-03-02 23:24:49</td>\n",
       "    </tr>\n",
       "    <tr>\n",
       "      <th>bbg</th>\n",
       "      <td>2013-03-11 21:45:19</td>\n",
       "    </tr>\n",
       "    <tr>\n",
       "      <th>blockstore</th>\n",
       "      <td>2016-03-01 16:14:34</td>\n",
       "    </tr>\n",
       "    <tr>\n",
       "      <th>c220g1</th>\n",
       "      <td>2016-04-15 13:20:23</td>\n",
       "    </tr>\n",
       "    <tr>\n",
       "      <th>c220g2</th>\n",
       "      <td>2016-03-11 02:34:39</td>\n",
       "    </tr>\n",
       "  </tbody>\n",
       "</table>\n",
       "</div>"
      ],
      "text/plain": [
       "                      inception\n",
       "type                           \n",
       "C240M4      2015-03-02 23:24:49\n",
       "bbg         2013-03-11 21:45:19\n",
       "blockstore  2016-03-01 16:14:34\n",
       "c220g1      2016-04-15 13:20:23\n",
       "c220g2      2016-03-11 02:34:39"
      ]
     },
     "execution_count": 4,
     "metadata": {},
     "output_type": "execute_result"
    }
   ],
   "source": [
    "node_inception = node_inception.dropna()\n",
    "node_inception.head()"
   ]
  },
  {
   "cell_type": "code",
   "execution_count": 5,
   "id": "secret-irish",
   "metadata": {},
   "outputs": [
    {
     "data": {
      "text/plain": [
       "pcvm      344\n",
       "m400      315\n",
       "m510      270\n",
       "c220g5    224\n",
       "xl170     200\n",
       "c220g2    163\n",
       "d710      161\n",
       "d430      160\n",
       "pc3000    157\n",
       "r320      128\n",
       "Name: type, dtype: int64"
      ]
     },
     "execution_count": 5,
     "metadata": {},
     "output_type": "execute_result"
    }
   ],
   "source": [
    "node_count = nodes_df[\"type\"].value_counts()\n",
    "node_count.head(10)\n",
    "\n"
   ]
  },
  {
   "cell_type": "code",
   "execution_count": 6,
   "id": "received-guidance",
   "metadata": {},
   "outputs": [
    {
     "data": {
      "text/plain": [
       "pandas.core.series.Series"
      ]
     },
     "execution_count": 6,
     "metadata": {},
     "output_type": "execute_result"
    }
   ],
   "source": [
    "type(node_count)"
   ]
  },
  {
   "cell_type": "markdown",
   "id": "center-crown",
   "metadata": {},
   "source": [
    "## Table with Nodes, their quantity and when did were they deployed in cloudlab"
   ]
  },
  {
   "cell_type": "code",
   "execution_count": 7,
   "id": "hearing-sculpture",
   "metadata": {},
   "outputs": [
    {
     "data": {
      "text/html": [
       "<div>\n",
       "<style scoped>\n",
       "    .dataframe tbody tr th:only-of-type {\n",
       "        vertical-align: middle;\n",
       "    }\n",
       "\n",
       "    .dataframe tbody tr th {\n",
       "        vertical-align: top;\n",
       "    }\n",
       "\n",
       "    .dataframe thead th {\n",
       "        text-align: right;\n",
       "    }\n",
       "</style>\n",
       "<table border=\"1\" class=\"dataframe\">\n",
       "  <thead>\n",
       "    <tr style=\"text-align: right;\">\n",
       "      <th></th>\n",
       "      <th>C240M4</th>\n",
       "      <th>bbg</th>\n",
       "      <th>blockstore</th>\n",
       "      <th>c220g1</th>\n",
       "      <th>c220g2</th>\n",
       "      <th>c220g5</th>\n",
       "      <th>c240g1</th>\n",
       "      <th>c240g2</th>\n",
       "      <th>c240g5</th>\n",
       "      <th>c4130</th>\n",
       "      <th>...</th>\n",
       "      <th>pcdp</th>\n",
       "      <th>pcivy</th>\n",
       "      <th>pcpg-i2</th>\n",
       "      <th>pcvm</th>\n",
       "      <th>r320</th>\n",
       "      <th>r720</th>\n",
       "      <th>sdr</th>\n",
       "      <th>spp</th>\n",
       "      <th>x310</th>\n",
       "      <th>xl170</th>\n",
       "    </tr>\n",
       "  </thead>\n",
       "  <tbody>\n",
       "    <tr>\n",
       "      <th>inception</th>\n",
       "      <td>2015-03-02 23:24:49</td>\n",
       "      <td>2013-03-11 21:45:19</td>\n",
       "      <td>2016-03-01 16:14:34</td>\n",
       "      <td>2016-04-15 13:20:23</td>\n",
       "      <td>2016-03-11 02:34:39</td>\n",
       "      <td>2018-02-17 22:33:33</td>\n",
       "      <td>2016-05-25 14:47:18</td>\n",
       "      <td>2016-05-26 12:14:14</td>\n",
       "      <td>2018-02-06 00:40:00</td>\n",
       "      <td>2016-03-24 14:57:07</td>\n",
       "      <td>...</td>\n",
       "      <td>2007-11-28 12:42:44</td>\n",
       "      <td>2013-02-01 16:19:35</td>\n",
       "      <td>2009-08-05 00:12:05</td>\n",
       "      <td>2016-02-19 14:10:13</td>\n",
       "      <td>2014-05-24 20:30:48</td>\n",
       "      <td>2014-09-25 12:26:55</td>\n",
       "      <td>2017-08-29 11:55:02</td>\n",
       "      <td>2009-12-08 10:59:36</td>\n",
       "      <td>2019-03-26 13:29:46</td>\n",
       "      <td>2018-01-25 19:19:30</td>\n",
       "    </tr>\n",
       "    <tr>\n",
       "      <th>qty</th>\n",
       "      <td>1</td>\n",
       "      <td>1</td>\n",
       "      <td>31</td>\n",
       "      <td>90</td>\n",
       "      <td>163</td>\n",
       "      <td>224</td>\n",
       "      <td>6</td>\n",
       "      <td>4</td>\n",
       "      <td>32</td>\n",
       "      <td>6</td>\n",
       "      <td>...</td>\n",
       "      <td>2</td>\n",
       "      <td>1</td>\n",
       "      <td>11</td>\n",
       "      <td>344</td>\n",
       "      <td>128</td>\n",
       "      <td>2</td>\n",
       "      <td>2</td>\n",
       "      <td>3</td>\n",
       "      <td>3</td>\n",
       "      <td>200</td>\n",
       "    </tr>\n",
       "  </tbody>\n",
       "</table>\n",
       "<p>2 rows × 69 columns</p>\n",
       "</div>"
      ],
      "text/plain": [
       "                        C240M4                  bbg           blockstore  \\\n",
       "inception  2015-03-02 23:24:49  2013-03-11 21:45:19  2016-03-01 16:14:34   \n",
       "qty                          1                    1                   31   \n",
       "\n",
       "                        c220g1               c220g2               c220g5  \\\n",
       "inception  2016-04-15 13:20:23  2016-03-11 02:34:39  2018-02-17 22:33:33   \n",
       "qty                         90                  163                  224   \n",
       "\n",
       "                        c240g1               c240g2               c240g5  \\\n",
       "inception  2016-05-25 14:47:18  2016-05-26 12:14:14  2018-02-06 00:40:00   \n",
       "qty                          6                    4                   32   \n",
       "\n",
       "                         c4130  ...                 pcdp                pcivy  \\\n",
       "inception  2016-03-24 14:57:07  ...  2007-11-28 12:42:44  2013-02-01 16:19:35   \n",
       "qty                          6  ...                    2                    1   \n",
       "\n",
       "                       pcpg-i2                 pcvm                 r320  \\\n",
       "inception  2009-08-05 00:12:05  2016-02-19 14:10:13  2014-05-24 20:30:48   \n",
       "qty                         11                  344                  128   \n",
       "\n",
       "                          r720                  sdr                  spp  \\\n",
       "inception  2014-09-25 12:26:55  2017-08-29 11:55:02  2009-12-08 10:59:36   \n",
       "qty                          2                    2                    3   \n",
       "\n",
       "                          x310                xl170  \n",
       "inception  2019-03-26 13:29:46  2018-01-25 19:19:30  \n",
       "qty                          3                  200  \n",
       "\n",
       "[2 rows x 69 columns]"
      ]
     },
     "execution_count": 7,
     "metadata": {},
     "output_type": "execute_result"
    }
   ],
   "source": [
    "node_inception_qty = node_inception.merge(node_count.to_frame(), left_index=True, right_index=True)\n",
    "node_inception_qty.rename(columns={'type':'qty'}, inplace=True)\n",
    "node_inception_qty.T"
   ]
  },
  {
   "cell_type": "code",
   "execution_count": 8,
   "id": "expected-seeking",
   "metadata": {},
   "outputs": [],
   "source": [
    "#Saving it as a csv. Will have null values for some rows in the inception column\n",
    "node_inception_qty.to_csv('sahil_data/node_inception_with_qty.csv')"
   ]
  },
  {
   "cell_type": "code",
   "execution_count": 9,
   "id": "sunrise-pilot",
   "metadata": {},
   "outputs": [
    {
     "data": {
      "text/plain": [
       "inception    0\n",
       "qty          0\n",
       "dtype: int64"
      ]
     },
     "execution_count": 9,
     "metadata": {},
     "output_type": "execute_result"
    }
   ],
   "source": [
    "# Earliest date of inception\n",
    "node_inception_qty.isnull().sum()\n"
   ]
  },
  {
   "cell_type": "code",
   "execution_count": 10,
   "id": "fifteen-anthony",
   "metadata": {},
   "outputs": [
    {
     "data": {
      "text/plain": [
       "count                      69\n",
       "unique                     69\n",
       "top       2007-06-20 07:16:14\n",
       "freq                        1\n",
       "Name: inception, dtype: object"
      ]
     },
     "execution_count": 10,
     "metadata": {},
     "output_type": "execute_result"
    }
   ],
   "source": [
    "node_inception_qty['inception'].describe()"
   ]
  },
  {
   "cell_type": "code",
   "execution_count": 11,
   "id": "rotary-filling",
   "metadata": {},
   "outputs": [],
   "source": [
    "node_inception_qty['date_time'] = node_inception_qty['inception'].astype('datetime64[ns]')"
   ]
  },
  {
   "cell_type": "code",
   "execution_count": 12,
   "id": "chicken-equivalent",
   "metadata": {},
   "outputs": [
    {
     "name": "stdout",
     "output_type": "stream",
     "text": [
      "Time interval: 2005-08-03 10:10:39 to 2019-03-29 08:52:59\n"
     ]
    }
   ],
   "source": [
    "# Find the range of time since the first node was installed until the latest inception. \n",
    "print( \n",
    "    \"Time interval: \"+ \n",
    "      str(node_inception_qty.date_time.min()) + \" to \" + \n",
    "    str(node_inception_qty.date_time.max())\n",
    ")"
   ]
  },
  {
   "cell_type": "code",
   "execution_count": 13,
   "id": "vanilla-assistant",
   "metadata": {},
   "outputs": [],
   "source": [
    "# Replace all null values with the earliest time stamp.\n",
    "\n",
    "inception = node_inception_qty['date_time']\n",
    "inception_oldest = inception.min() # fetch the oldest timestamp\n",
    "inception.fillna(inception_oldest, inplace=True)\n",
    "#inception.isnull().sum() # should be zero\n"
   ]
  },
  {
   "cell_type": "code",
   "execution_count": 14,
   "id": "confirmed-pledge",
   "metadata": {},
   "outputs": [],
   "source": [
    "node_inception_qty = node_inception_qty.drop(['inception'], axis=1) # dropping duplicate column\n"
   ]
  },
  {
   "cell_type": "code",
   "execution_count": 26,
   "id": "thick-turkey",
   "metadata": {},
   "outputs": [],
   "source": [
    "node_inception_qty = node_inception_qty.sort_values(by=['date_time']) # sorting by timestamp\n",
    "node_inception_qty['cum_qty'] = node_inception_qty['qty'].cumsum()\n",
    "#Saving it as a csv\n",
    "node_inception_qty.to_csv('sahil_data/node_inception_with_qty.csv')\n"
   ]
  },
  {
   "cell_type": "code",
   "execution_count": 27,
   "id": "legislative-diving",
   "metadata": {
    "scrolled": true
   },
   "outputs": [
    {
     "data": {
      "text/html": [
       "<div>\n",
       "<style scoped>\n",
       "    .dataframe tbody tr th:only-of-type {\n",
       "        vertical-align: middle;\n",
       "    }\n",
       "\n",
       "    .dataframe tbody tr th {\n",
       "        vertical-align: top;\n",
       "    }\n",
       "\n",
       "    .dataframe thead th {\n",
       "        text-align: right;\n",
       "    }\n",
       "</style>\n",
       "<table border=\"1\" class=\"dataframe\">\n",
       "  <thead>\n",
       "    <tr style=\"text-align: right;\">\n",
       "      <th></th>\n",
       "      <th>qty</th>\n",
       "      <th>date_time</th>\n",
       "      <th>cum_qty</th>\n",
       "    </tr>\n",
       "  </thead>\n",
       "  <tbody>\n",
       "    <tr>\n",
       "      <th>pc3000</th>\n",
       "      <td>157</td>\n",
       "      <td>2005-08-03 10:10:39</td>\n",
       "      <td>157</td>\n",
       "    </tr>\n",
       "    <tr>\n",
       "      <th>pc1500</th>\n",
       "      <td>2</td>\n",
       "      <td>2007-06-20 07:16:10</td>\n",
       "      <td>159</td>\n",
       "    </tr>\n",
       "    <tr>\n",
       "      <th>pc850</th>\n",
       "      <td>3</td>\n",
       "      <td>2007-06-20 07:16:14</td>\n",
       "      <td>162</td>\n",
       "    </tr>\n",
       "    <tr>\n",
       "      <th>pcdp</th>\n",
       "      <td>2</td>\n",
       "      <td>2007-11-28 12:42:44</td>\n",
       "      <td>164</td>\n",
       "    </tr>\n",
       "    <tr>\n",
       "      <th>pc2400w</th>\n",
       "      <td>16</td>\n",
       "      <td>2007-12-19 09:49:34</td>\n",
       "      <td>180</td>\n",
       "    </tr>\n",
       "    <tr>\n",
       "      <th>...</th>\n",
       "      <td>...</td>\n",
       "      <td>...</td>\n",
       "      <td>...</td>\n",
       "    </tr>\n",
       "    <tr>\n",
       "      <th>dellrest-s5248</th>\n",
       "      <td>5</td>\n",
       "      <td>2019-02-23 08:41:23</td>\n",
       "      <td>2821</td>\n",
       "    </tr>\n",
       "    <tr>\n",
       "      <th>d840</th>\n",
       "      <td>3</td>\n",
       "      <td>2019-02-23 08:50:20</td>\n",
       "      <td>2824</td>\n",
       "    </tr>\n",
       "    <tr>\n",
       "      <th>faros_sfp</th>\n",
       "      <td>1</td>\n",
       "      <td>2019-03-20 14:40:57</td>\n",
       "      <td>2825</td>\n",
       "    </tr>\n",
       "    <tr>\n",
       "      <th>x310</th>\n",
       "      <td>3</td>\n",
       "      <td>2019-03-26 13:29:46</td>\n",
       "      <td>2828</td>\n",
       "    </tr>\n",
       "    <tr>\n",
       "      <th>n310</th>\n",
       "      <td>1</td>\n",
       "      <td>2019-03-29 08:52:59</td>\n",
       "      <td>2829</td>\n",
       "    </tr>\n",
       "  </tbody>\n",
       "</table>\n",
       "<p>69 rows × 3 columns</p>\n",
       "</div>"
      ],
      "text/plain": [
       "                qty           date_time  cum_qty\n",
       "pc3000          157 2005-08-03 10:10:39      157\n",
       "pc1500            2 2007-06-20 07:16:10      159\n",
       "pc850             3 2007-06-20 07:16:14      162\n",
       "pcdp              2 2007-11-28 12:42:44      164\n",
       "pc2400w          16 2007-12-19 09:49:34      180\n",
       "...             ...                 ...      ...\n",
       "dellrest-s5248    5 2019-02-23 08:41:23     2821\n",
       "d840              3 2019-02-23 08:50:20     2824\n",
       "faros_sfp         1 2019-03-20 14:40:57     2825\n",
       "x310              3 2019-03-26 13:29:46     2828\n",
       "n310              1 2019-03-29 08:52:59     2829\n",
       "\n",
       "[69 rows x 3 columns]"
      ]
     },
     "execution_count": 27,
     "metadata": {},
     "output_type": "execute_result"
    }
   ],
   "source": [
    "node_inception_qty"
   ]
  },
  {
   "cell_type": "code",
   "execution_count": 28,
   "id": "matched-enhancement",
   "metadata": {},
   "outputs": [
    {
     "data": {
      "text/plain": [
       "<AxesSubplot:xlabel='date_time'>"
      ]
     },
     "execution_count": 28,
     "metadata": {},
     "output_type": "execute_result"
    },
    {
     "data": {
      "image/png": "[encoded data removed]",
      "text/plain": [
       "<Figure size 432x288 with 1 Axes>"
      ]
     },
     "metadata": {
      "image/png": {
       "height": 252,
       "width": 381
      },
      "needs_background": "light"
     },
     "output_type": "display_data"
    }
   ],
   "source": [
    "node_inception_qty.plot(x = 'date_time', y = 'cum_qty', kind = 'line')"
   ]
  },
  {
   "cell_type": "code",
   "execution_count": 25,
   "id": "available-helen",
   "metadata": {},
   "outputs": [
    {
     "data": {
      "text/html": [
       "<div>\n",
       "<style scoped>\n",
       "    .dataframe tbody tr th:only-of-type {\n",
       "        vertical-align: middle;\n",
       "    }\n",
       "\n",
       "    .dataframe tbody tr th {\n",
       "        vertical-align: top;\n",
       "    }\n",
       "\n",
       "    .dataframe thead th {\n",
       "        text-align: right;\n",
       "    }\n",
       "</style>\n",
       "<table border=\"1\" class=\"dataframe\">\n",
       "  <thead>\n",
       "    <tr style=\"text-align: right;\">\n",
       "      <th></th>\n",
       "      <th>qty</th>\n",
       "      <th>date_time</th>\n",
       "      <th>cum_qty</th>\n",
       "    </tr>\n",
       "  </thead>\n",
       "  <tbody>\n",
       "    <tr>\n",
       "      <th>pc3000</th>\n",
       "      <td>157</td>\n",
       "      <td>2005-08-03 10:10:39</td>\n",
       "      <td>157</td>\n",
       "    </tr>\n",
       "    <tr>\n",
       "      <th>pc1500</th>\n",
       "      <td>2</td>\n",
       "      <td>2007-06-20 07:16:10</td>\n",
       "      <td>159</td>\n",
       "    </tr>\n",
       "    <tr>\n",
       "      <th>pc850</th>\n",
       "      <td>3</td>\n",
       "      <td>2007-06-20 07:16:14</td>\n",
       "      <td>162</td>\n",
       "    </tr>\n",
       "    <tr>\n",
       "      <th>pcdp</th>\n",
       "      <td>2</td>\n",
       "      <td>2007-11-28 12:42:44</td>\n",
       "      <td>164</td>\n",
       "    </tr>\n",
       "    <tr>\n",
       "      <th>pc2400w</th>\n",
       "      <td>16</td>\n",
       "      <td>2007-12-19 09:49:34</td>\n",
       "      <td>180</td>\n",
       "    </tr>\n",
       "    <tr>\n",
       "      <th>...</th>\n",
       "      <td>...</td>\n",
       "      <td>...</td>\n",
       "      <td>...</td>\n",
       "    </tr>\n",
       "    <tr>\n",
       "      <th>dellrest-s5248</th>\n",
       "      <td>5</td>\n",
       "      <td>2019-02-23 08:41:23</td>\n",
       "      <td>2821</td>\n",
       "    </tr>\n",
       "    <tr>\n",
       "      <th>d840</th>\n",
       "      <td>3</td>\n",
       "      <td>2019-02-23 08:50:20</td>\n",
       "      <td>2824</td>\n",
       "    </tr>\n",
       "    <tr>\n",
       "      <th>faros_sfp</th>\n",
       "      <td>1</td>\n",
       "      <td>2019-03-20 14:40:57</td>\n",
       "      <td>2825</td>\n",
       "    </tr>\n",
       "    <tr>\n",
       "      <th>x310</th>\n",
       "      <td>3</td>\n",
       "      <td>2019-03-26 13:29:46</td>\n",
       "      <td>2828</td>\n",
       "    </tr>\n",
       "    <tr>\n",
       "      <th>n310</th>\n",
       "      <td>1</td>\n",
       "      <td>2019-03-29 08:52:59</td>\n",
       "      <td>2829</td>\n",
       "    </tr>\n",
       "  </tbody>\n",
       "</table>\n",
       "<p>69 rows × 3 columns</p>\n",
       "</div>"
      ],
      "text/plain": [
       "                qty           date_time  cum_qty\n",
       "pc3000          157 2005-08-03 10:10:39      157\n",
       "pc1500            2 2007-06-20 07:16:10      159\n",
       "pc850             3 2007-06-20 07:16:14      162\n",
       "pcdp              2 2007-11-28 12:42:44      164\n",
       "pc2400w          16 2007-12-19 09:49:34      180\n",
       "...             ...                 ...      ...\n",
       "dellrest-s5248    5 2019-02-23 08:41:23     2821\n",
       "d840              3 2019-02-23 08:50:20     2824\n",
       "faros_sfp         1 2019-03-20 14:40:57     2825\n",
       "x310              3 2019-03-26 13:29:46     2828\n",
       "n310              1 2019-03-29 08:52:59     2829\n",
       "\n",
       "[69 rows x 3 columns]"
      ]
     },
     "execution_count": 25,
     "metadata": {},
     "output_type": "execute_result"
    }
   ],
   "source": [
    "\n"
   ]
  },
  {
   "cell_type": "code",
   "execution_count": null,
   "id": "geographic-wesley",
   "metadata": {},
   "outputs": [],
   "source": []
  }
 ],
 "metadata": {
  "kernelspec": {
   "display_name": "Python 3",
   "language": "python",
   "name": "python3"
  },
  "language_info": {
   "codemirror_mode": {
    "name": "ipython",
    "version": 3
   },
   "file_extension": ".py",
   "mimetype": "text/x-python",
   "name": "python",
   "nbconvert_exporter": "python",
   "pygments_lexer": "ipython3",
   "version": "3.8.5"
  }
 },
 "nbformat": 4,
 "nbformat_minor": 5
}
