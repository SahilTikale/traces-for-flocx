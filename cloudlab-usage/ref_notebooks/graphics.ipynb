{
 "cells": [
  {
   "cell_type": "code",
   "execution_count": null,
   "metadata": {},
   "outputs": [],
   "source": [
    "# For consistency, use specific colors for specific hardware types  \n",
    "\n",
    "type_cmap = \\\n",
    "    {'m510': 'darkblue', \n",
    "     'r320': (0.9098039215686274, 0.0, 0.043137254901960784), \n",
    "     'd430': (0.0, 0.24705882352941178, 1.0), \n",
    "     'c8220': (0.0, 0.8431372549019608, 1.0), \n",
    "     'c6220': (0.0, 0.24705882352941178, 1.0), \n",
    "     'nuc6260': (0.011764705882352941, 0.9294117647058824, 0.22745098039215686), \n",
    "     'c6420': (0.0, 0.24705882352941178, 1.0), \n",
    "     'c240g5': (1.0, 0.7686274509803922, 0.0), \n",
    "     'c220g5': (0.7, 0.5686274509803922, 0.3), \n",
    "     'c220g2': (0.5411764705882353, 0.16862745098039217, 0.8862745098039215), \n",
    "     'c220g1': (0.011764705882352941, 0.9294117647058824, 0.22745098039215686), \n",
    "     'd710': (0.011764705882352941, 0.9294117647058824, 0.22745098039215686), \n",
    "     'xl170': 'darkgreen', \n",
    "     'c4130': (0.9098039215686274, 0.0, 0.043137254901960784), \n",
    "     'pc3000': (0.9098039215686274, 0.0, 0.043137254901960784), \n",
    "     'c240g1': (0.5411764705882353, 0.16862745098039217, 0.8862745098039215), \n",
    "     'm400': 'darkred', \n",
    "     'c6320': (1.0, 0.7686274509803922, 0.0), \n",
    "     'd820': (0.0, 0.8431372549019608, 1.0)}"
   ]
  }
 ],
 "metadata": {
  "kernelspec": {
   "display_name": "Python 3",
   "language": "python",
   "name": "python3"
  },
  "language_info": {
   "codemirror_mode": {
    "name": "ipython",
    "version": 3
   },
   "file_extension": ".py",
   "mimetype": "text/x-python",
   "name": "python",
   "nbconvert_exporter": "python",
   "pygments_lexer": "ipython3",
   "version": "3.8.5"
  },
  "varInspector": {
   "cols": {
    "lenName": 16,
    "lenType": 16,
    "lenVar": 40
   },
   "kernels_config": {
    "python": {
     "delete_cmd_postfix": "",
     "delete_cmd_prefix": "del ",
     "library": "var_list.py",
     "varRefreshCmd": "print(var_dic_list())"
    },
    "r": {
     "delete_cmd_postfix": ") ",
     "delete_cmd_prefix": "rm(",
     "library": "var_list.r",
     "varRefreshCmd": "cat(var_dic_list()) "
    }
   },
   "types_to_exclude": [
    "module",
    "function",
    "builtin_function_or_method",
    "instance",
    "_Feature"
   ],
   "window_display": false
  }
 },
 "nbformat": 4,
 "nbformat_minor": 2
}
